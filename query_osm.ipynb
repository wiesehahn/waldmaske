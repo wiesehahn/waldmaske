{
  "nbformat": 4,
  "nbformat_minor": 0,
  "metadata": {
    "colab": {
      "name": "Untitled1.ipynb",
      "provenance": [],
      "authorship_tag": "ABX9TyOuaRa/ENMRLOExu097v2rv",
      "include_colab_link": true
    },
    "kernelspec": {
      "name": "python3",
      "display_name": "Python 3"
    }
  },
  "cells": [
    {
      "cell_type": "markdown",
      "metadata": {
        "id": "view-in-github",
        "colab_type": "text"
      },
      "source": [
        "<a href=\"https://colab.research.google.com/github/wiesehahn/waldmaske/blob/master/query_osm.ipynb\" target=\"_parent\"><img src=\"https://colab.research.google.com/assets/colab-badge.svg\" alt=\"Open In Colab\"/></a>"
      ]
    },
    {
      "cell_type": "markdown",
      "metadata": {
        "id": "SuLxcRVYfPMj",
        "colab_type": "text"
      },
      "source": [
        "<table class=\"ee-notebook-buttons\" align=\"left\">\n",
        "    <td><a target=\"_blank\"  href=\"https://github.com/wiesehahn/waldmaske/blob/master/notebooks/query_osm.ipynb\"><img width=32px src=\"https://www.tensorflow.org/images/GitHub-Mark-32px.png\" /> View source on GitHub</a></td>\n",
        "    <td><a target=\"_blank\"  href=\"https://colab.research.google.com/github/wiesehahn/waldmaske/blob/master/notebooks/query_osm.ipynb\"><img src=\"https://www.tensorflow.org/images/colab_logo_32px.png\" /> Run in Google Colab</a></td>\n",
        "</table>"
      ]
    },
    {
      "cell_type": "markdown",
      "metadata": {
        "id": "qhwHr7qhoO2f",
        "colab_type": "text"
      },
      "source": [
        "# OSM Data\n",
        "Loading Data from OpenStreetMap with Python and the Overpass API"
      ]
    },
    {
      "cell_type": "code",
      "metadata": {
        "id": "SH6lZATUocea",
        "colab_type": "code",
        "colab": {}
      },
      "source": [
        "import requests\n",
        "import json\n",
        "\n",
        "overpass_url = \"http://overpass-api.de/api/interpreter\"\n",
        "overpass_query = \"\"\"\n",
        "[out:json];\n",
        "(\n",
        "  way\n",
        "  [\"highway\"]\n",
        "  [highway!~\"footway|path|bridleway|steps\"]\n",
        "  [tracktype!~\"grade4|grade5\"]\n",
        "  (51.504442609479455,9.940686323657957,51.5633863622234,10.057416059986082);\n",
        ");\n",
        "out skel;\n",
        ">;\n",
        "out skel geom 50 qt;\n",
        "\"\"\"\n",
        "response = requests.get(overpass_url, \n",
        "                        params={'data': overpass_query})\n",
        "data = response.json()\n",
        "print(data['elements'])"
      ],
      "execution_count": null,
      "outputs": []
    },
    {
      "cell_type": "code",
      "metadata": {
        "id": "4rYAKcc8pSwA",
        "colab_type": "code",
        "colab": {}
      },
      "source": [
        "import numpy as np\n",
        "import matplotlib.pyplot as plt\n",
        "# Collect coords into list\n",
        "coords = []\n",
        "for element in data['elements']:\n",
        "  if element['type'] == 'node':\n",
        "    lon = element['lon']\n",
        "    lat = element['lat']\n",
        "    coords.append((lon, lat))\n",
        "  elif 'center' in element:\n",
        "    lon = element['lon']\n",
        "    lat = element['lat']\n",
        "    coords.append((lon, lat))\n",
        "\n",
        "# Convert coordinates into numpy array\n",
        "X = np.array(coords)\n",
        "plt.plot(X[:, 0], X[:, 1], 'o')\n",
        "plt.title('Ways from OSM')\n",
        "plt.xlabel('Longitude')\n",
        "plt.ylabel('Latitude')\n",
        "plt.axis('equal')\n",
        "plt.show()"
      ],
      "execution_count": null,
      "outputs": []
    },
    {
      "cell_type": "markdown",
      "metadata": {
        "id": "XwcwAxE2YJIh",
        "colab_type": "text"
      },
      "source": [
        "*fix:*\n",
        "Aktuell bekomme ich nur die Nodes der Wege, ich möchte aber die Linie als Geometrie. "
      ]
    }
  ]
}