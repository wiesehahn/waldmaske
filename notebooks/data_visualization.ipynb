{
  "nbformat": 4,
  "nbformat_minor": 0,
  "metadata": {
    "colab": {
      "name": "data_visualization.ipynb",
      "provenance": [],
      "collapsed_sections": [],
      "authorship_tag": "ABX9TyNecDAgI27ePj7qiRq6GWGQ",
      "include_colab_link": true
    },
    "kernelspec": {
      "name": "python3",
      "display_name": "Python 3"
    }
  },
  "cells": [
    {
      "cell_type": "markdown",
      "metadata": {
        "id": "view-in-github",
        "colab_type": "text"
      },
      "source": [
        "<a href=\"https://colab.research.google.com/github/wiesehahn/waldmaske/blob/master/notebooks/data_visualization.ipynb\" target=\"_parent\"><img src=\"https://colab.research.google.com/assets/colab-badge.svg\" alt=\"Open In Colab\"/></a>"
      ]
    },
    {
      "cell_type": "markdown",
      "metadata": {
        "id": "SuLxcRVYfPMj"
      },
      "source": [
        "<table class=\"ee-notebook-buttons\" align=\"left\">\n",
        "    <td><a target=\"_blank\"  href=\"https://github.com/wiesehahn/waldmaske/blob/master/notebooks/data_visualization.ipynb\"><img width=32px src=\"https://www.tensorflow.org/images/GitHub-Mark-32px.png\" /> View source on GitHub</a></td>\n",
        "    <td><a target=\"_blank\"  href=\"https://colab.research.google.com/github/wiesehahn/waldmaske/blob/master/notebooks/data_visualization.ipynb\"><img src=\"https://www.tensorflow.org/images/colab_logo_32px.png\" /> Run in Google Colab</a></td>\n",
        "</table>"
      ]
    },
    {
      "cell_type": "markdown",
      "metadata": {
        "id": "f5yQrc67fPMl"
      },
      "source": [
        "# Install Earth Engine API and geemap\n",
        "Install the [Earth Engine Python API](https://developers.google.com/earth-engine/python_install) and [geemap](https://github.com/giswqs/geemap). "
      ]
    },
    {
      "cell_type": "code",
      "metadata": {
        "id": "SAoqkOGNfPMo",
        "colab": {
          "base_uri": "https://localhost:8080/"
        },
        "outputId": "6f2bc57f-1048-4800-c31c-60afbcb80261"
      },
      "source": [
        "# Installs geemap package\n",
        "import subprocess\n",
        "\n",
        "try:\n",
        "    import geemap\n",
        "except ImportError:\n",
        "    print('geemap package not installed. Installing ...')\n",
        "    subprocess.check_call([\"python\", '-m', 'pip', 'install', 'geemap'])\n",
        "\n",
        "# Checks whether this notebook is running on Google Colab\n",
        "try:\n",
        "    import google.colab\n",
        "    import geemap.eefolium as emap\n",
        "except:\n",
        "    import geemap as emap\n",
        "\n",
        "# Authenticates and initializes Earth Engine\n",
        "import ee\n",
        "\n",
        "try:\n",
        "    ee.Initialize()\n",
        "except Exception as e:\n",
        "    ee.Authenticate()\n",
        "    ee.Initialize()    "
      ],
      "execution_count": 2,
      "outputs": [
        {
          "output_type": "stream",
          "text": [
            "To authorize access needed by Earth Engine, open the following URL in a web browser and follow the instructions. If the web browser does not start automatically, please manually browse the URL below.\n",
            "\n",
            "    https://accounts.google.com/o/oauth2/auth?client_id=517222506229-vsmmajv00ul0bs7p89v5m89qs8eb9359.apps.googleusercontent.com&scope=https%3A%2F%2Fwww.googleapis.com%2Fauth%2Fearthengine+https%3A%2F%2Fwww.googleapis.com%2Fauth%2Fdevstorage.full_control&redirect_uri=urn%3Aietf%3Awg%3Aoauth%3A2.0%3Aoob&response_type=code&code_challenge=6gV0qx3AaZpeIQ1IQyPncUsJsSp-GGlAmFDKapBeJUs&code_challenge_method=S256\n",
            "\n",
            "The authorization workflow will generate a code, which you should paste in the box below. \n",
            "Enter verification code: 4/1AY0e-g4qKnuwkzXwkVafINwKDtMpN3aCVmhk72WBmH2w7OXTXKumk8PZ5fQ\n",
            "\n",
            "Successfully saved authorization token.\n"
          ],
          "name": "stdout"
        }
      ]
    },
    {
      "cell_type": "markdown",
      "metadata": {
        "id": "9bmjb9MBv9nm"
      },
      "source": [
        "# Visualize Data"
      ]
    },
    {
      "cell_type": "markdown",
      "metadata": {
        "id": "vCz_hHuqfPMy"
      },
      "source": [
        "## LUCAS Survey\n",
        "https://land.copernicus.eu/imagery-in-situ/lucas\n",
        "\n",
        "The LUCAS survey, carried out by EUROSTAT on a three-yearly basis since 2006, focuses on the state and the dynamics of changes in land use and cover in the European Union. The survey is carried out in-situ; a large number of observations are made and registered throughout the EU. Since 2012, all 27 EU countries have been covered and over 270,000 points have been analysed on different land cover types (cropland, grassland, forest, built-up areas, transport network, etc.). On these points, the surveyors have examined the land cover and land use, irrigation management and structural elements in the landscape.\n",
        "\n",
        "(used as reference data)"
      ]
    },
    {
      "cell_type": "code",
      "metadata": {
        "id": "LOKQXLaUfPM9",
        "colab": {
          "base_uri": "https://localhost:8080/",
          "height": 863
        },
        "outputId": "8092b15c-0b90-47fd-986a-cc79a406e61d"
      },
      "source": [
        "# create Map\n",
        "Map = emap.Map(center=[52,9], zoom=9)\n",
        "\n",
        "# Add WMS Layer (LUCAS data)\n",
        "lucas_url = 'https://image.discomap.eea.europa.eu/arcgis/services/LUCAS/LUCAS_2018/MapServer/WMSServer?'\n",
        "Map.add_wms_layer(url=lucas_url, layers='1', name='LUCAS 2018', format='image/png', shown=False)\n",
        "\n",
        "# Add x y z tiles \n",
        "# google_url = 'https://mt1.google.com/vt/lyrs=m&x={x}&y={y}&z={z}'\n",
        "# Map.add_tile_layer(google_url, name='Google Map', attribution='Google')\n",
        "\n",
        "Map.addLayerControl()\n",
        "Map"
      ],
      "execution_count": 3,
      "outputs": [
        {
          "output_type": "execute_result",
          "data": {
            "text/html": [
              "<div style=\"width:100%;\"><div style=\"position:relative;width:100%;height:0;padding-bottom:60%;\"><span style=\"color:#565656\">Make this Notebook Trusted to load map: File -> Trust Notebook</span><iframe src=\"about:blank\" style=\"position:absolute;width:100%;height:100%;left:0;top:0;border:none !important;\" data-html=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 onload=\"this.contentDocument.open();this.contentDocument.write(atob(this.getAttribute('data-html')));this.contentDocument.close();\" allowfullscreen webkitallowfullscreen mozallowfullscreen></iframe></div></div>"
            ],
            "text/plain": [
              "<geemap.eefolium.Map at 0x7f213faa8c50>"
            ]
          },
          "metadata": {
            "tags": []
          },
          "execution_count": 3
        }
      ]
    },
    {
      "cell_type": "markdown",
      "metadata": {
        "id": "BhtFwPIhtMzP"
      },
      "source": [
        "## EU-DEM\n",
        "https://land.copernicus.eu/imagery-in-situ/eu-dem\n",
        "\n",
        "EU-DEM v1.0 is a digital surface model (DSM) of EEA39 countries representing the first surface as illuminated by the sensors. It is a hybrid product based on SRTM and ASTER GDEM data fused by a weighted averaging approach. The statistical validation of EU-DEM v1.0 documents a relatively unbiased (-0.56 meters) overall vertical accuracy of 2.9 meters RMSE, which is fully within the contractual specification of 7m RMSE (European Commission 2009). Please read the full report here.\n",
        "\n",
        "The following corrections and improvements have been implemented in EU-DEM v1.1:\n",
        "* systematic correction of geo-positioning issues (found and corrected for Malta and Lampedusa islands);\n",
        "* bias adjustment with ICESat;\n",
        "* screening and removal of artefacts, including the presence of blunders (i.e. negative or positive anomalies); more than 75.000 artefacts have been detected and corrected;\n",
        "* consistency with the upgraded version of EU-Hydro, in order to produce a better river network topology.\n",
        "\n",
        "\n",
        "## High Resolution Image Mosaics\n",
        "https://land.copernicus.eu/imagery-in-situ/european-image-mosaics/high-resolution\n",
        "\n",
        "High Resolution satellite imagery forms the input for the creation of many information products and services, such as land cover maps or high resolution layers on land cover characteristics. Having all the satellite imagery available to cover 39 countries of EEA (EEA39), it is worthwhile to process the individual image scenes into a seamless pan-European ortho-rectified mosaic.\n",
        "\n",
        "The HR Mosaic for 2018 has been produced using Sentinel 2 data in 10 meter resolution over the EEA 39. This data was produced at a Sentinel 2 tile level and consisted of 1079 Sentinel 2 tiles. "
      ]
    },
    {
      "cell_type": "code",
      "metadata": {
        "id": "3DXGs9UKugZf",
        "colab": {
          "base_uri": "https://localhost:8080/",
          "height": 1000
        },
        "outputId": "a47a5736-5ff3-4a35-be80-41ab896ace1a"
      },
      "source": [
        "# create Map\n",
        "Map = emap.Map(center=[52,9], zoom=9)\n",
        "\n",
        "\n",
        "# Add Earth Engine dataset (SRTM)\n",
        "srtm = ee.Image('USGS/SRTMGL1_003')\n",
        "\n",
        "vis_srtm = {\n",
        "  'min': 0,\n",
        "  'max': 1000,\n",
        "  'palette': ['006633', 'E5FFCC', '662A00', 'D8D8D8', 'F5F5F5']}\n",
        "\n",
        "Map.addLayer(srtm, vis_srtm, 'SRTM DEM', False)\n",
        "\n",
        "dem_url = 'https://image.discomap.eea.europa.eu/arcgis/services/Elevation/EUElev_DEM_V11/MapServer/WmsServer?'\n",
        "Map.add_wms_layer(url=dem_url, layers='DEM_v11_Masked2', name='EU-DEM v1.1', format='image/png', shown=False)\n",
        "\n",
        "# hrim_url = 'https://image.discomap.eea.europa.eu/arcgis/services/GioLand/HRIM_HR_FalseColour_2018/ImageServer/WMSServer'\n",
        "# Map.add_wms_layer(url=hrim_url, layers='0', name='High Resolution Image Mosaic 2018 - False Colour (10m)', format='image/jpeg', shown=False)\n",
        "\n",
        "Map.addLayerControl()\n",
        "Map"
      ],
      "execution_count": null,
      "outputs": [
        {
          "output_type": "execute_result",
          "data": {
            "text/html": [
              "<div style=\"width:100%;\"><div style=\"position:relative;width:100%;height:0;padding-bottom:60%;\"><span style=\"color:#565656\">Make this Notebook Trusted to load map: File -> Trust Notebook</span><iframe src=\"about:blank\" style=\"position:absolute;width:100%;height:100%;left:0;top:0;border:none !important;\" data-html=PCFET0NUWVBFIGh0bWw+CjxoZWFkPiAgICAKICAgIDxtZXRhIGh0dHAtZXF1aXY9ImNvbnRlbnQtdHlwZSIgY29udGVudD0idGV4dC9odG1sOyBjaGFyc2V0PVVURi04IiAvPgogICAgCiAgICAgICAgPHNjcmlwdD4KICAgICAgICAgICAgTF9OT19UT1VDSCA9IGZhbHNlOwogICAgICAgICAgICBMX0RJU0FCTEVfM0QgPSBmYWxzZTsKICAgICAgICA8L3NjcmlwdD4KICAgIAogICAgPHNjcmlwdCBzcmM9Imh0dHBzOi8vY2RuLmpzZGVsaXZyLm5ldC9ucG0vbGVhZmxldEAxLjYuMC9kaXN0L2xlYWZsZXQuanMiPjwvc2NyaXB0PgogICAgPHNjcmlwdCBzcmM9Imh0dHBzOi8vY29kZS5qcXVlcnkuY29tL2pxdWVyeS0xLjEyLjQubWluLmpzIj48L3NjcmlwdD4KICAgIDxzY3JpcHQgc3JjPSJodHRwczovL21heGNkbi5ib290c3RyYXBjZG4uY29tL2Jvb3RzdHJhcC8zLjIuMC9qcy9ib290c3RyYXAubWluLmpzIj48L3NjcmlwdD4KICAgIDxzY3JpcHQgc3JjPSJodHRwczovL2NkbmpzLmNsb3VkZmxhcmUuY29tL2FqYXgvbGlicy9MZWFmbGV0LmF3ZXNvbWUtbWFya2Vycy8yLjAuMi9sZWFmbGV0LmF3ZXNvbWUtbWFya2Vycy5qcyI+PC9zY3JpcHQ+CiAgICA8bGluayByZWw9InN0eWxlc2hlZXQiIGhyZWY9Imh0dHBzOi8vY2RuLmpzZGVsaXZyLm5ldC9ucG0vbGVhZmxldEAxLjYuMC9kaXN0L2xlYWZsZXQuY3NzIi8+CiAgICA8bGluayByZWw9InN0eWxlc2hlZXQiIGhyZWY9Imh0dHBzOi8vbWF4Y2RuLmJvb3RzdHJhcGNkbi5jb20vYm9vdHN0cmFwLzMuMi4wL2Nzcy9ib290c3RyYXAubWluLmNzcyIvPgogICAgPGxpbmsgcmVsPSJzdHlsZXNoZWV0IiBocmVmPSJodHRwczovL21heGNkbi5ib290c3RyYXBjZG4uY29tL2Jvb3RzdHJhcC8zLjIuMC9jc3MvYm9vdHN0cmFwLXRoZW1lLm1pbi5jc3MiLz4KICAgIDxsaW5rIHJlbD0ic3R5bGVzaGVldCIgaHJlZj0iaHR0cHM6Ly9tYXhjZG4uYm9vdHN0cmFwY2RuLmNvbS9mb250LWF3ZXNvbWUvNC42LjMvY3NzL2ZvbnQtYXdlc29tZS5taW4uY3NzIi8+CiAgICA8bGluayByZWw9InN0eWxlc2hlZXQiIGhyZWY9Imh0dHBzOi8vY2RuanMuY2xvdWRmbGFyZS5jb20vYWpheC9saWJzL0xlYWZsZXQuYXdlc29tZS1tYXJrZXJzLzIuMC4yL2xlYWZsZXQuYXdlc29tZS1tYXJrZXJzLmNzcyIvPgogICAgPGxpbmsgcmVsPSJzdHlsZXNoZWV0IiBocmVmPSJodHRwczovL3Jhd2Nkbi5naXRoYWNrLmNvbS9weXRob24tdmlzdWFsaXphdGlvbi9mb2xpdW0vbWFzdGVyL2ZvbGl1bS90ZW1wbGF0ZXMvbGVhZmxldC5hd2Vzb21lLnJvdGF0ZS5jc3MiLz4KICAgIDxzdHlsZT5odG1sLCBib2R5IHt3aWR0aDogMTAwJTtoZWlnaHQ6IDEwMCU7bWFyZ2luOiAwO3BhZGRpbmc6IDA7fTwvc3R5bGU+CiAgICA8c3R5bGU+I21hcCB7cG9zaXRpb246YWJzb2x1dGU7dG9wOjA7Ym90dG9tOjA7cmlnaHQ6MDtsZWZ0OjA7fTwvc3R5bGU+CiAgICAKICAgICAgICAgICAgPG1ldGEgbmFtZT0idmlld3BvcnQiIGNvbnRlbnQ9IndpZHRoPWRldmljZS13aWR0aCwKICAgICAgICAgICAgICAgIGluaXRpYWwtc2NhbGU9MS4wLCBtYXhpbXVtLXNjYWxlPTEuMCwgdXNlci1zY2FsYWJsZT1ubyIgLz4KICAgICAgICAgICAgPHN0eWxlPgogICAgICAgICAgICAgICAgI21hcF9lNjNkZmRkMWUwMWE0OGY5YmVhZDJkMzU1ZWM4NzQ0ZCB7CiAgICAgICAgICAgICAgICAgICAgcG9zaXRpb246IHJlbGF0aXZlOwogICAgICAgICAgICAgICAgICAgIHdpZHRoOiAxMDAuMCU7CiAgICAgICAgICAgICAgICAgICAgaGVpZ2h0OiAxMDAuMCU7CiAgICAgICAgICAgICAgICAgICAgbGVmdDogMC4wJTsKICAgICAgICAgICAgICAgICAgICB0b3A6IDAuMCU7CiAgICAgICAgICAgICAgICB9CiAgICAgICAgICAgIDwvc3R5bGU+CiAgICAgICAgCjwvaGVhZD4KPGJvZHk+ICAgIAogICAgCiAgICAgICAgICAgIDxkaXYgY2xhc3M9ImZvbGl1bS1tYXAiIGlkPSJtYXBfZTYzZGZkZDFlMDFhNDhmOWJlYWQyZDM1NWVjODc0NGQiID48L2Rpdj4KICAgICAgICAKPC9ib2R5Pgo8c2NyaXB0PiAgICAKICAgIAogICAgICAgICAgICB2YXIgbWFwX2U2M2RmZGQxZTAxYTQ4ZjliZWFkMmQzNTVlYzg3NDRkID0gTC5tYXAoCiAgICAgICAgICAgICAgICAibWFwX2U2M2RmZGQxZTAxYTQ4ZjliZWFkMmQzNTVlYzg3NDRkIiwKICAgICAgICAgICAgICAgIHsKICAgICAgICAgICAgICAgICAgICBjZW50ZXI6IFs1Mi4wLCA5LjBdLAogICAgICAgICAgICAgICAgICAgIGNyczogTC5DUlMuRVBTRzM4NTcsCiAgICAgICAgICAgICAgICAgICAgem9vbTogOSwKICAgICAgICAgICAgICAgICAgICB6b29tQ29udHJvbDogdHJ1ZSwKICAgICAgICAgICAgICAgICAgICBwcmVmZXJDYW52YXM6IGZhbHNlLAogICAgICAgICAgICAgICAgICAgIGFkZEdvb2dsZU1hcDogdHJ1ZSwKICAgICAgICAgICAgICAgIH0KICAgICAgICAgICAgKTsKCiAgICAgICAgICAgIAoKICAgICAgICAKICAgIAogICAgICAgICAgICB2YXIgdGlsZV9sYXllcl8wMjM4OTY5NWYzNGI0OGFjYmM4NGFkYzQ4NTUzMmJiZiA9IEwudGlsZUxheWVyKAogICAgICAgICAgICAgICAgImh0dHBzOi8ve3N9LnRpbGUub3BlbnN0cmVldG1hcC5vcmcve3p9L3t4fS97eX0ucG5nIiwKICAgICAgICAgICAgICAgIHsiYXR0cmlidXRpb24iOiAiRGF0YSBieSBcdTAwMjZjb3B5OyBcdTAwM2NhIGhyZWY9XCJodHRwOi8vb3BlbnN0cmVldG1hcC5vcmdcIlx1MDAzZU9wZW5TdHJlZXRNYXBcdTAwM2MvYVx1MDAzZSwgdW5kZXIgXHUwMDNjYSBocmVmPVwiaHR0cDovL3d3dy5vcGVuc3RyZWV0bWFwLm9yZy9jb3B5cmlnaHRcIlx1MDAzZU9EYkxcdTAwM2MvYVx1MDAzZS4iLCAiZGV0ZWN0UmV0aW5hIjogZmFsc2UsICJtYXhOYXRpdmVab29tIjogMTgsICJtYXhab29tIjogMTgsICJtaW5ab29tIjogMCwgIm5vV3JhcCI6IGZhbHNlLCAib3BhY2l0eSI6IDEsICJzdWJkb21haW5zIjogImFiYyIsICJ0bXMiOiBmYWxzZX0KICAgICAgICAgICAgKS5hZGRUbyhtYXBfZTYzZGZkZDFlMDFhNDhmOWJlYWQyZDM1NWVjODc0NGQpOwogICAgICAgIAogICAgCiAgICAgICAgICAgIHZhciB0aWxlX2xheWVyXzljNjRiNzVmZDk1NTQ4YTNhN2MxNzhhOWIzMDdmODczID0gTC50aWxlTGF5ZXIoCiAgICAgICAgICAgICAgICAiaHR0cHM6Ly9tdDEuZ29vZ2xlLmNvbS92dC9seXJzPW1cdTAwMjZ4PXt4fVx1MDAyNnk9e3l9XHUwMDI2ej17en0iLAogICAgICAgICAgICAgICAgeyJhdHRyaWJ1dGlvbiI6ICJHb29nbGUiLCAiZGV0ZWN0UmV0aW5hIjogZmFsc2UsICJtYXhOYXRpdmVab29tIjogMTgsICJtYXhab29tIjogMTgsICJtaW5ab29tIjogMCwgIm5vV3JhcCI6IGZhbHNlLCAib3BhY2l0eSI6IDEsICJzdWJkb21haW5zIjogImFiYyIsICJ0bXMiOiBmYWxzZX0KICAgICAgICAgICAgKS5hZGRUbyhtYXBfZTYzZGZkZDFlMDFhNDhmOWJlYWQyZDM1NWVjODc0NGQpOwogICAgICAgIAogICAgCiAgICAgICAgICAgICAgICB2YXIgbGF0X2xuZ19wb3B1cF84MTY5ZDUzNGM0ZDM0NDQzODdjOTk3MzUxMmNhOGRlYyA9IEwucG9wdXAoKTsKICAgICAgICAgICAgICAgIGZ1bmN0aW9uIGxhdExuZ1BvcChlKSB7CiAgICAgICAgICAgICAgICAgICAgbGF0X2xuZ19wb3B1cF84MTY5ZDUzNGM0ZDM0NDQzODdjOTk3MzUxMmNhOGRlYwogICAgICAgICAgICAgICAgICAgICAgICAuc2V0TGF0TG5nKGUubGF0bG5nKQogICAgICAgICAgICAgICAgICAgICAgICAuc2V0Q29udGVudCgiTGF0aXR1ZGU6ICIgKyBlLmxhdGxuZy5sYXQudG9GaXhlZCg0KSArCiAgICAgICAgICAgICAgICAgICAgICAgICAgICAgICAgICAgICI8YnI+TG9uZ2l0dWRlOiAiICsgZS5sYXRsbmcubG5nLnRvRml4ZWQoNCkpCiAgICAgICAgICAgICAgICAgICAgICAgIC5vcGVuT24obWFwX2U2M2RmZGQxZTAxYTQ4ZjliZWFkMmQzNTVlYzg3NDRkKTsKICAgICAgICAgICAgICAgICAgICB9CiAgICAgICAgICAgICAgICBtYXBfZTYzZGZkZDFlMDFhNDhmOWJlYWQyZDM1NWVjODc0NGQub24oJ2NsaWNrJywgbGF0TG5nUG9wKTsKICAgICAgICAgICAgCiAgICAKICAgICAgICAgICAgbWFwX2U2M2RmZGQxZTAxYTQ4ZjliZWFkMmQzNTVlYzg3NDRkLmZpdEJvdW5kcygKICAgICAgICAgICAgICAgIFtbNTIsIDldLCBbNTIsIDldXSwKICAgICAgICAgICAgICAgIHsibWF4Wm9vbSI6IDl9CiAgICAgICAgICAgICk7CiAgICAgICAgCiAgICAKICAgICAgICAgICAgdmFyIHRpbGVfbGF5ZXJfMWIwYjkyMzgzZjc4NDI5MGFkNjA3NmViYmFiYTQ2OTUgPSBMLnRpbGVMYXllcigKICAgICAgICAgICAgICAgICJodHRwczovL2VhcnRoZW5naW5lLmdvb2dsZWFwaXMuY29tL3YxYWxwaGEvcHJvamVjdHMvZWFydGhlbmdpbmUtbGVnYWN5L21hcHMvNDE1NjkwMTY2MWI4MzI5NTc4YWM4YTU2ZTkwYjJhMmMtYjhmYzg2N2UwNWY3ZDgyODMyOTM2NzllM2VmMjkyOWYvdGlsZXMve3p9L3t4fS97eX0iLAogICAgICAgICAgICAgICAgeyJhdHRyaWJ1dGlvbiI6ICJHb29nbGUgRWFydGggRW5naW5lIiwgImRldGVjdFJldGluYSI6IGZhbHNlLCAibWF4TmF0aXZlWm9vbSI6IDE4LCAibWF4Wm9vbSI6IDE4LCAibWluWm9vbSI6IDAsICJub1dyYXAiOiBmYWxzZSwgIm9wYWNpdHkiOiAxLjAsICJzdWJkb21haW5zIjogImFiYyIsICJ0bXMiOiBmYWxzZX0KICAgICAgICAgICAgKS5hZGRUbyhtYXBfZTYzZGZkZDFlMDFhNDhmOWJlYWQyZDM1NWVjODc0NGQpOwogICAgICAgIAogICAgCiAgICAgICAgICAgIHZhciBtYWNyb19lbGVtZW50XzBlZmQyNDY4NDgwZTRhZDg5NGU5MjBjMTlmOWQ2NDk4ID0gTC50aWxlTGF5ZXIud21zKAogICAgICAgICAgICAgICAgImh0dHBzOi8vaW1hZ2UuZGlzY29tYXAuZWVhLmV1cm9wYS5ldS9hcmNnaXMvc2VydmljZXMvRWxldmF0aW9uL0VVRWxldl9ERU1fVjExL01hcFNlcnZlci9XbXNTZXJ2ZXI/IiwKICAgICAgICAgICAgICAgIHsiYXR0cmlidXRpb24iOiAiIiwgImZvcm1hdCI6ICJpbWFnZS9qcGVnIiwgImxheWVycyI6ICJERU1fdjExX01hc2tlZDIiLCAic3R5bGVzIjogIiIsICJ0cmFuc3BhcmVudCI6IGZhbHNlLCAidmVyc2lvbiI6ICIxLjEuMSJ9CiAgICAgICAgICAgICkuYWRkVG8obWFwX2U2M2RmZGQxZTAxYTQ4ZjliZWFkMmQzNTVlYzg3NDRkKTsKICAgICAgICAKICAgIAogICAgICAgICAgICB2YXIgbGF5ZXJfY29udHJvbF81NzExZjgxMGE0ZTU0MzBkYTliYTNiZjcxMjE2M2E2OCA9IHsKICAgICAgICAgICAgICAgIGJhc2VfbGF5ZXJzIDogewogICAgICAgICAgICAgICAgICAgICJvcGVuc3RyZWV0bWFwIiA6IHRpbGVfbGF5ZXJfMDIzODk2OTVmMzRiNDhhY2JjODRhZGM0ODU1MzJiYmYsCiAgICAgICAgICAgICAgICB9LAogICAgICAgICAgICAgICAgb3ZlcmxheXMgOiAgewogICAgICAgICAgICAgICAgICAgICJHb29nbGUgTWFwcyIgOiB0aWxlX2xheWVyXzljNjRiNzVmZDk1NTQ4YTNhN2MxNzhhOWIzMDdmODczLAogICAgICAgICAgICAgICAgICAgICJTUlRNIERFTSIgOiB0aWxlX2xheWVyXzFiMGI5MjM4M2Y3ODQyOTBhZDYwNzZlYmJhYmE0Njk1LAogICAgICAgICAgICAgICAgICAgICJFVS1ERU0gdjEuMSIgOiBtYWNyb19lbGVtZW50XzBlZmQyNDY4NDgwZTRhZDg5NGU5MjBjMTlmOWQ2NDk4LAogICAgICAgICAgICAgICAgfSwKICAgICAgICAgICAgfTsKICAgICAgICAgICAgTC5jb250cm9sLmxheWVycygKICAgICAgICAgICAgICAgIGxheWVyX2NvbnRyb2xfNTcxMWY4MTBhNGU1NDMwZGE5YmEzYmY3MTIxNjNhNjguYmFzZV9sYXllcnMsCiAgICAgICAgICAgICAgICBsYXllcl9jb250cm9sXzU3MTFmODEwYTRlNTQzMGRhOWJhM2JmNzEyMTYzYTY4Lm92ZXJsYXlzLAogICAgICAgICAgICAgICAgeyJhdXRvWkluZGV4IjogdHJ1ZSwgImNvbGxhcHNlZCI6IHRydWUsICJwb3NpdGlvbiI6ICJ0b3ByaWdodCJ9CiAgICAgICAgICAgICkuYWRkVG8obWFwX2U2M2RmZGQxZTAxYTQ4ZjliZWFkMmQzNTVlYzg3NDRkKTsKICAgICAgICAgICAgdGlsZV9sYXllcl8xYjBiOTIzODNmNzg0MjkwYWQ2MDc2ZWJiYWJhNDY5NS5yZW1vdmUoKTsKICAgICAgICAgICAgbWFjcm9fZWxlbWVudF8wZWZkMjQ2ODQ4MGU0YWQ4OTRlOTIwYzE5ZjlkNjQ5OC5yZW1vdmUoKTsKICAgICAgICAKPC9zY3JpcHQ+ onload=\"this.contentDocument.open();this.contentDocument.write(atob(this.getAttribute('data-html')));this.contentDocument.close();\" allowfullscreen webkitallowfullscreen mozallowfullscreen></iframe></div></div>"
            ],
            "text/plain": [
              "<geemap.eefolium.Map at 0x7f8c6f8a5d30>"
            ]
          },
          "metadata": {
            "tags": []
          },
          "execution_count": 3
        }
      ]
    },
    {
      "cell_type": "markdown",
      "metadata": {
        "id": "lkPEHclNOblg"
      },
      "source": [
        "## Copernicus High Resolution Layers\n",
        "\n",
        "### Forests\n",
        "https://land.copernicus.eu/pan-european/high-resolution-layers/forests\n",
        "\n",
        "The HRL Forests consists of 3 types of (status) products, and additional change products. The status products are available for 2012 and 2015 reference years:\n",
        "\n",
        "* Tree cover density (TCD) (level of tree cover density in a range from 0-100%)\n",
        "*Dominant leaf type (DLT) (broadleaved or coniferous majority)\n",
        "*A Forest type product (FTY). The forest type product allows to get as close as possible to the FAO forest definition. In its original (20m) resolution it consists of two products: 1) a dominant leaf type product that has a MMU of 0.5 ha, as well as a 10% tree cover density threshold applied, and 2) a support layer that maps, based on the dominant leaf type product, trees under agricultural use and in urban context (derived from CLC and imperviousness 2009 data). For the final 100m product trees under agricultural use and urban context from the support layer are removed.\n",
        "\n",
        "Please find a more detailed product specification in the [technical document](https://land.copernicus.eu/pan-european/high-resolution-layers/forests/resolveuid/7a979c884e1649e882b71ba2f99b2c80).\n",
        "\n",
        "### Grassland\n",
        "https://land.copernicus.eu/pan-european/high-resolution-layers/grassland\n",
        "\n",
        "The main product is a binary grassland/non-grassland product in 20m pixels size, that is supposed to include the full spectrum of grassland use intensity (from natural to managed grasslands). Please find a more detailed product specification in the [technical document](https://land.copernicus.eu/pan-european/high-resolution-layers/grassland/resolveuid/8f075cec57bd4fe1907829937c751703).\n",
        "\n",
        "### Small Woody Features\n",
        "https://land.copernicus.eu/pan-european/high-resolution-layers/small-woody-features\n",
        "\n",
        "The HRL Small Woody Features (SWF) is a new CLMS product, which provides harmonized information on linear structures such as hedgerows, as well as patches (200 m² ≤ area ≤ 5000 m²) of woody features across the EEA39 countries. Please find a more detailed product specification in the [technical document](https://land.copernicus.eu/pan-european/high-resolution-layers/small-woody-features/resolveuid/94fd0d3e19ed449eba2f2ad0560cd09b).\n",
        "\n",
        "## Related Pan-European Products\n",
        "\n",
        "### European Settlement map\n",
        "https://land.copernicus.eu/pan-european/GHSL/european-settlement-map\n",
        "\n",
        "The European Settlement Map is a spatial raster dataset that is mapping human settlements in Europe based on SPOT5 and SPOT6 satellite imagery.\n",
        "\n",
        "## Local Data\n",
        "\n",
        "### Urban Atlas\n",
        "https://land.copernicus.eu/local/urban-atlas\n",
        "\n",
        "The Urban Atlas provides pan-European comparable land cover and land use data for Functional Urban Areas (FUA). The full dataset, when completed, will cover 788 FUAs covering EU27 + EFTA countries + West Balkans + Turkey + UK. It is currently composed of 438 Functional Urban Areas (FUA).\n",
        "\n",
        "The products are:\n",
        "* The 2018 edition of the Land Cover/Land Use product of Urban Atlas. \n",
        "* The 2012-2018 change product, and\n",
        "* The revised 2012 edition of Urban Atlas\n",
        "* Street Tree Layer (STL)\n",
        "\n",
        "The nomenclature of the Land Cover/Land Use product is the same as for the 2012 version. It includes 17 urban classes with MMU 0.25 ha and 10 Rural Classes with MMU 1ha and can be found [here](https://land.copernicus.eu/user-corner/technical-library/urban_atlas_2012_2018_mapping_guide_v6-1.pdf).\n",
        "\n",
        "\n"
      ]
    },
    {
      "cell_type": "code",
      "metadata": {
        "id": "QD18qWu4VpjG",
        "colab": {
          "base_uri": "https://localhost:8080/",
          "height": 863
        },
        "outputId": "eace0f81-2115-427e-997e-96d05de99113"
      },
      "source": [
        "# create Map\n",
        "Map = emap.Map(center=[52,9], zoom=9)\n",
        "\n",
        "# imp_url = 'https://image.discomap.eea.europa.eu/arcgis/services/GioLandPublic/HRL_ImperviousnessDensity_2015/MapServer/WmsServer?'\n",
        "# Map.add_wms_layer(url=stl_url, layers=['0'], name='Copernicus HRL - Imperviousness 2015', format='image/png', shown=True)\n",
        "tcd2018_url = 'https://image.discomap.eea.europa.eu/arcgis/services/GioLandPublic/HRL_TreeCoverDensity_2018/ImageServer/WMSServer?'\n",
        "Map.add_wms_layer(url=tcd2018_url, layers=['HRL_TreeCoverDensity_2018:TCD_MosaicSymbology'], name='Copernicus HRL - Tree Cover Density 2018', format='image/png', shown=False)\n",
        "\n",
        "tcd_url = 'https://image.discomap.eea.europa.eu/arcgis/services/GioLandPublic/HRL_TreeCoverDensity_2015/MapServer/WmsServer?'\n",
        "Map.add_wms_layer(url=tcd_url, layers=['0', '1'], name='Copernicus HRL - Tree Cover Density 2015', format='image/png', shown=False)\n",
        "\n",
        "dlt_url = 'https://image.discomap.eea.europa.eu/arcgis/services/GioLandPublic/HRL_DominantLeafType_2015/MapServer/WmsServer?'\n",
        "Map.add_wms_layer(url=dlt_url, layers=['0'], name='Copernicus HRL - Dominant Leaf Type 2015', format='image/png', shown=False)\n",
        "\n",
        "fty_url = 'https://image.discomap.eea.europa.eu/arcgis/services/GioLandPublic/HRL_ForestType_2015/MapServer/WmsServer?'\n",
        "Map.add_wms_layer(url=fty_url, layers=['HRL Forest Type 2015 20m', 'HRL Forest Type 2015 100m'], name='Copernicus HRL - Forest Type 2015', format='image/png', shown=False)\n",
        "\n",
        "fadsl_url = 'https://image.discomap.eea.europa.eu/arcgis/services/GioLandPublic/HRL_ForestAdditionalSupportLayer_2015/MapServer/WmsServer?'\n",
        "Map.add_wms_layer(url=fadsl_url, layers=['0'], name='Copernicus HRL - Forest Additional Support Layer 2015', format='image/png', shown=False)\n",
        "\n",
        "grass_url = 'https://image.discomap.eea.europa.eu/arcgis/services/GioLandPublic/HRL_Grassland_2015/MapServer/WmsServer?'\n",
        "Map.add_wms_layer(url=grass_url, layers=['0', '1'], name='Copernicus HRL - Grassland 2015', format='image/png', shown=False)\n",
        "\n",
        "swf_url = 'https://image.discomap.eea.europa.eu/arcgis/services/GioLandPublic/HRL_SmallWoodyFeatures_2015_005m/ImageServer/WMSServer'\n",
        "Map.add_wms_layer(url=swf_url, layers=['0'], name='Copernicus HRL - Small Woody Features 2015', format='image/png', shown=False)\n",
        "\n",
        "esm_url = 'https://image.discomap.eea.europa.eu/arcgis/services/GioLandPublic/ESM2015_R2019_WM/ImageServer/WMSServer'\n",
        "Map.add_wms_layer(url=esm_url, layers=['0'], name='European Settlement Map 2015', format='image/png', shown=False)\n",
        "\n",
        "ua_url = 'https://image.discomap.eea.europa.eu/arcgis/services/UrbanAtlas/UA_UrbanAtlas_2018/MapServer/WmsServer?'\n",
        "Map.add_wms_layer(url=ua_url, layers=['Land Use vector', 'Land Use Raster'], name='Copernicus UA - Urban Atlas 2018', format='image/png', shown=False)\n",
        "\n",
        "stl_url = 'https://image.discomap.eea.europa.eu/arcgis/services/UrbanAtlas/UA_StreetTreeLayer_2018/MapServer/WmsServer?'\n",
        "Map.add_wms_layer(url=stl_url, layers=['STL 2018 Vector', 'STL 2018 Raster'], name='Copernicus UA - Street Tree Layer 2018', format='image/png', shown=False)\n",
        "\n",
        "\n",
        "Map.addLayerControl()\n",
        "Map"
      ],
      "execution_count": 4,
      "outputs": [
        {
          "output_type": "execute_result",
          "data": {
            "text/html": [
              "<div style=\"width:100%;\"><div style=\"position:relative;width:100%;height:0;padding-bottom:60%;\"><span style=\"color:#565656\">Make this Notebook Trusted to load map: File -> Trust Notebook</span><iframe src=\"about:blank\" style=\"position:absolute;width:100%;height:100%;left:0;top:0;border:none !important;\" data-html=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 onload=\"this.contentDocument.open();this.contentDocument.write(atob(this.getAttribute('data-html')));this.contentDocument.close();\" allowfullscreen webkitallowfullscreen mozallowfullscreen></iframe></div></div>"
            ],
            "text/plain": [
              "<geemap.eefolium.Map at 0x7f213f5108d0>"
            ]
          },
          "metadata": {
            "tags": []
          },
          "execution_count": 4
        }
      ]
    },
    {
      "cell_type": "markdown",
      "metadata": {
        "id": "E4KdimgQvlf8"
      },
      "source": [
        "## Project data\n",
        "\n",
        "### Random Forest Classification\n",
        "\n",
        "A random forest classification was performed as part of this project to classify forest and non-forest areas in Germany based on Seninel-2 imagery. \n",
        "\n",
        "Displayed here is the forest mask for a test region around Göttingen, Germany.\n",
        "\n",
        "The Method can be seen [here](https://github.com/wiesehahn/waldmaske/tree/master/scripts/gee/rf)"
      ]
    },
    {
      "cell_type": "code",
      "metadata": {
        "id": "vPMa7aM1Ala8",
        "colab": {
          "base_uri": "https://localhost:8080/",
          "height": 863
        },
        "outputId": "dfede37e-83ef-40b9-96f3-1e94fc2c64cd"
      },
      "source": [
        "Map = emap.Map(center=[51.5352, 9.93843], zoom=14)\n",
        "\n",
        "Map.add_basemap('SATELLITE')\n",
        "\n",
        "rf_classification = ee.Image.load('users/wiesehahn/waldmaske/classification/map/classification_32unc_20200623')\n",
        "Map.addLayer(rf_classification.updateMask(rf_classification.eq(0)), {'palette': ['ff0000', '000000']}, 'Forest Mask', True, 0.5);\n",
        "\n",
        "Map.addLayerControl()\n",
        "Map"
      ],
      "execution_count": 5,
      "outputs": [
        {
          "output_type": "execute_result",
          "data": {
            "text/html": [
              "<div style=\"width:100%;\"><div style=\"position:relative;width:100%;height:0;padding-bottom:60%;\"><span style=\"color:#565656\">Make this Notebook Trusted to load map: File -> Trust Notebook</span><iframe src=\"about:blank\" style=\"position:absolute;width:100%;height:100%;left:0;top:0;border:none !important;\" data-html=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 onload=\"this.contentDocument.open();this.contentDocument.write(atob(this.getAttribute('data-html')));this.contentDocument.close();\" allowfullscreen webkitallowfullscreen mozallowfullscreen></iframe></div></div>"
            ],
            "text/plain": [
              "<geemap.eefolium.Map at 0x7f213f4f5860>"
            ]
          },
          "metadata": {
            "tags": []
          },
          "execution_count": 5
        }
      ]
    }
  ]
}