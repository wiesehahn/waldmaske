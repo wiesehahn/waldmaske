{
 "cells": [
  {
   "cell_type": "markdown",
   "metadata": {
    "colab_type": "text",
    "id": "view-in-github"
   },
   "source": [
    "<a href=\"https://colab.research.google.com/github/wiesehahn/waldmaske/blob/master/notebooks/query_osm.ipynb\" target=\"_parent\"><img src=\"https://colab.research.google.com/assets/colab-badge.svg\" alt=\"Open In Colab\"/></a>"
   ]
  },
  {
   "cell_type": "markdown",
   "metadata": {
    "colab_type": "text",
    "id": "SuLxcRVYfPMj"
   },
   "source": [
    "<table class=\"ee-notebook-buttons\" align=\"left\">\n",
    "    <td><a target=\"_blank\"  href=\"https://github.com/wiesehahn/waldmaske/blob/master/notebooks/query_osm.ipynb\"><img width=32px src=\"https://www.tensorflow.org/images/GitHub-Mark-32px.png\" /> View source on GitHub</a></td>\n",
    "    <td><a target=\"_blank\"  href=\"https://colab.research.google.com/github/wiesehahn/waldmaske/blob/master/notebooks/query_osm.ipynb\"><img src=\"https://www.tensorflow.org/images/colab_logo_32px.png\" /> Run in Google Colab</a></td>\n",
    "</table>"
   ]
  },
  {
   "cell_type": "markdown",
   "metadata": {
    "colab_type": "text",
    "id": "qhwHr7qhoO2f"
   },
   "source": [
    "# OSM Data\n",
    "Loading Data from OpenStreetMap with Python and the Overpass API and bringing it to Earth Engine for processing"
   ]
  },
  {
   "cell_type": "markdown",
   "metadata": {
    "colab_type": "text",
    "id": "RAbA0P69APEb"
   },
   "source": [
    "## Get Data"
   ]
  },
  {
   "cell_type": "code",
   "execution_count": null,
   "metadata": {
    "colab": {},
    "colab_type": "code",
    "id": "TzRHG1c7xVAF"
   },
   "outputs": [],
   "source": [
    "import requests\n",
    "import json\n",
    "\n",
    "overpass_url = \"http://overpass-api.de/api/interpreter\"\n",
    "overpass_query = \"\"\"\n",
    "[out:json];\n",
    "\n",
    "area[\"ISO3166-2\"=\"DE-NI\"]->.suchgebiet;\n",
    "\n",
    "(\n",
    "  way\n",
    "  [\"highway\"]\n",
    "  [highway!~\"footway|path|bridleway|steps\"]\n",
    "  [tracktype!~\"grade4|grade5\"]\n",
    "  (area.suchgebiet);\n",
    ");\n",
    "out skel geom qt;\n",
    "\"\"\"\n",
    "response = requests.get(overpass_url, \n",
    "                        params={'data': overpass_query})\n",
    "data = response.json()"
   ]
  },
  {
   "cell_type": "markdown",
   "metadata": {
    "colab_type": "text",
    "id": "f5aWI_BiY-dW"
   },
   "source": [
    "convert to GeoJSON FeatureCollection"
   ]
  },
  {
   "cell_type": "code",
   "execution_count": null,
   "metadata": {
    "colab": {},
    "colab_type": "code",
    "id": "u-patQwep-VY"
   },
   "outputs": [],
   "source": [
    "import subprocess"
   ]
  },
  {
   "cell_type": "code",
   "execution_count": null,
   "metadata": {
    "colab": {},
    "colab_type": "code",
    "id": "bGfKfelGo5k8"
   },
   "outputs": [],
   "source": [
    "try:\n",
    "    import geojson\n",
    "except ImportError:\n",
    "    print('geojson package not installed. Installing ...')\n",
    "    subprocess.check_call([\"python\", '-m', 'pip', 'install', 'geojson'])\n",
    "    import geojson\n",
    "\n",
    "# adapted from https://github.com/yannforget/OSMxtract/blob/master/osmxtract/overpass.py\n",
    "def as_linestrings(elements):\n",
    "    \"\"\"Parse an iterable of elements to retrieve a FeatureCollection of linestrings.\n",
    "    Parameters\n",
    "    ----------\n",
    "    elements : list of dict\n",
    "        JSON response elements.\n",
    "    Returns\n",
    "    -------\n",
    "    feature_collection : dict\n",
    "        Output GeoJSON FeatureCollection.\n",
    "    \"\"\"\n",
    "    features = []\n",
    "    elements = [e for e in elements if e.get('type') == 'way']\n",
    "    for elem in elements:\n",
    "        coords = [[node['lon'], node['lat']] for node in elem['geometry']]\n",
    "        geom = geojson.LineString(coordinates=coords)\n",
    "        features.append(geojson.Feature(elem['id'], geom))\n",
    "    return geojson.FeatureCollection(features)\n",
    "    \n",
    "feature_collection = as_linestrings(data['elements'])"
   ]
  },
  {
   "cell_type": "markdown",
   "metadata": {
    "colab_type": "text",
    "id": "EHbPOjm8_3zM"
   },
   "source": [
    "## Data to EE"
   ]
  },
  {
   "cell_type": "markdown",
   "metadata": {
    "colab_type": "text",
    "id": "W2_V3_CJYXuB"
   },
   "source": [
    "write file to Colab environment"
   ]
  },
  {
   "cell_type": "code",
   "execution_count": null,
   "metadata": {
    "colab": {},
    "colab_type": "code",
    "id": "471mzhF2V6Zk"
   },
   "outputs": [],
   "source": [
    "from geojson import dump\n",
    "\n",
    "with open('osm-ways_ni.geojson', 'w') as f:\n",
    "   dump(feature_collection, f)"
   ]
  },
  {
   "cell_type": "code",
   "execution_count": null,
   "metadata": {
    "colab": {
     "base_uri": "https://localhost:8080/",
     "height": 34
    },
    "colab_type": "code",
    "id": "UVqQpntwpoHZ",
    "outputId": "07718736-6a09-4813-8888-9773174ac1eb"
   },
   "outputs": [
    {
     "data": {
      "text/plain": [
       "<subprocess.Popen at 0x7f62ca22c5f8>"
      ]
     },
     "execution_count": 14,
     "metadata": {
      "tags": []
     },
     "output_type": "execute_result"
    }
   ],
   "source": [
    "args = ['ogr2ogr', '-f', 'ESRI Shapefile', 'osm-ways_ni.shp', 'osm-ways_ni.geojson']\n",
    "test = subprocess.Popen(args)"
   ]
  },
  {
   "cell_type": "markdown",
   "metadata": {
    "colab_type": "text",
    "id": "d4tVDapkYzkY"
   },
   "source": [
    "save files on local disk"
   ]
  },
  {
   "cell_type": "code",
   "execution_count": null,
   "metadata": {
    "colab": {},
    "colab_type": "code",
    "id": "yTj6uToB9PxL"
   },
   "outputs": [],
   "source": [
    "from google.colab import files"
   ]
  },
  {
   "cell_type": "code",
   "execution_count": null,
   "metadata": {
    "colab": {},
    "colab_type": "code",
    "id": "NbCqHeQQXOA5"
   },
   "outputs": [],
   "source": [
    "#files.download('osm-ways_ni.geojson')"
   ]
  },
  {
   "cell_type": "code",
   "execution_count": null,
   "metadata": {
    "colab": {},
    "colab_type": "code",
    "id": "IzQbXTpN9HZs"
   },
   "outputs": [],
   "source": [
    "files.download('osm-ways_ni.prj')\n",
    "files.download('osm-ways_ni.dbf')\n",
    "files.download('osm-ways_ni.shp')\n",
    "files.download('osm-ways_ni.shx')\n"
   ]
  },
  {
   "cell_type": "markdown",
   "metadata": {
    "colab_type": "text",
    "id": "qoWDuIg8_ORE"
   },
   "source": [
    "(zip files and upload manually to EE)"
   ]
  },
  {
   "cell_type": "markdown",
   "metadata": {
    "colab_type": "text",
    "id": "rAbOesbF_pps"
   },
   "source": [
    "## Plot Data"
   ]
  },
  {
   "cell_type": "markdown",
   "metadata": {
    "colab_type": "text",
    "id": "mOF2roUQX-Yg"
   },
   "source": [
    "convert to geodataframe"
   ]
  },
  {
   "cell_type": "code",
   "execution_count": null,
   "metadata": {
    "colab": {},
    "colab_type": "code",
    "id": "8Vm3aJppjsqR"
   },
   "outputs": [],
   "source": [
    "try:\n",
    "    import geopandas as gpd\n",
    "except ImportError:\n",
    "    print('geopandas package not installed. Installing ...')\n",
    "    subprocess.check_call([\"python\", '-m', 'pip', 'install', 'geopandas'])\n",
    "    import geopandas as gpd"
   ]
  },
  {
   "cell_type": "code",
   "execution_count": null,
   "metadata": {
    "colab": {},
    "colab_type": "code",
    "id": "Q-AoQUNI0tdT"
   },
   "outputs": [],
   "source": [
    "# To GeoPandas GeoDataFrame:\n",
    "geodataframe = gpd.GeoDataFrame.from_features(feature_collection)"
   ]
  },
  {
   "cell_type": "code",
   "execution_count": null,
   "metadata": {
    "colab": {
     "base_uri": "https://localhost:8080/",
     "height": 244
    },
    "colab_type": "code",
    "id": "MPgvqrR70_Rk",
    "outputId": "847d6510-4f4e-4252-c5c6-6b2ecb89719f"
   },
   "outputs": [
    {
     "data": {
      "text/plain": [
       "<matplotlib.axes._subplots.AxesSubplot at 0x7f69b8c01ba8>"
      ]
     },
     "execution_count": 15,
     "metadata": {
      "tags": []
     },
     "output_type": "execute_result"
    },
    {
     "data": {
      "image/png": "[encoded data removed]",
      "text/plain": [
       "<Figure size 432x288 with 1 Axes>"
      ]
     },
     "metadata": {
      "needs_background": "light",
      "tags": []
     },
     "output_type": "display_data"
    }
   ],
   "source": [
    "geodataframe.plot()"
   ]
  },
  {
   "cell_type": "markdown",
   "metadata": {
    "colab_type": "text",
    "id": "_J0lY-nG9GNa"
   },
   "source": [
    "# Raster data\n",
    "load raster data file generated in Google Earth Engine"
   ]
  },
  {
   "cell_type": "code",
   "execution_count": null,
   "metadata": {
    "colab": {},
    "colab_type": "code",
    "id": "piR5S_oqAPjK"
   },
   "outputs": [],
   "source": [
    "# Installs geemap package\n",
    "try:\n",
    "    import geemap\n",
    "except ImportError:\n",
    "    print('geemap package not installed. Installing ...')\n",
    "    subprocess.check_call([\"python\", '-m', 'pip', 'install', 'geemap'])\n",
    "    import geemap\n",
    "\n",
    "# Checks whether this notebook is running on Google Colab\n",
    "try:\n",
    "        import google.colab\n",
    "        import geemap.eefolium as emap\n",
    "except:\n",
    "        import geemap as emap\n",
    "        \n",
    "# Authenticates and initializes Earth Engine\n",
    "import ee\n",
    "\n",
    "try:\n",
    "        ee.Initialize()\n",
    "except Exception as e:\n",
    "        ee.Authenticate()\n",
    "        ee.Initialize()"
   ]
  }
 ],
 "metadata": {
  "colab": {
   "authorship_tag": "ABX9TyPPXy21gR70r9DVoLB9ZaUr",
   "collapsed_sections": [],
   "include_colab_link": true,
   "name": "data_visualization.ipynb",
   "provenance": []
  },
  "kernelspec": {
   "display_name": "Python 3",
   "language": "python",
   "name": "python3"
  },
  "language_info": {
   "codemirror_mode": {
    "name": "ipython",
    "version": 3
   },
   "file_extension": ".py",
   "mimetype": "text/x-python",
   "name": "python",
   "nbconvert_exporter": "python",
   "pygments_lexer": "ipython3",
   "version": "3.8.3"
  }
 },
 "nbformat": 4,
 "nbformat_minor": 4
}
